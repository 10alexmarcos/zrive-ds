{
 "cells": [
  {
   "cell_type": "code",
   "execution_count": 1,
   "metadata": {},
   "outputs": [],
   "source": [
    "import pandas as pd\n",
    "import numpy as np\n",
    "import matplotlib.pyplot as plt\n",
    "import seaborn as sns\n",
    "import matplotlib\n",
    "from typing import Tuple\n",
    "\n",
    "from sklearn.linear_model import LogisticRegression\n",
    "from sklearn.metrics import precision_recall_curve, roc_curve, roc_auc_score, auc\n",
    "from sklearn.pipeline import make_pipeline, Pipeline\n",
    "from sklearn.preprocessing import StandardScaler"
   ]
  },
  {
   "cell_type": "code",
   "execution_count": 2,
   "metadata": {},
   "outputs": [],
   "source": [
    "data_path = '/Users/alex/zriveAM/zrive-ds/aws/data/feature_frame.csv'\n",
    "df = pd.read_csv(data_path)"
   ]
  },
  {
   "cell_type": "code",
   "execution_count": 3,
   "metadata": {},
   "outputs": [
    {
     "data": {
      "text/html": [
       "<div>\n",
       "<style scoped>\n",
       "    .dataframe tbody tr th:only-of-type {\n",
       "        vertical-align: middle;\n",
       "    }\n",
       "\n",
       "    .dataframe tbody tr th {\n",
       "        vertical-align: top;\n",
       "    }\n",
       "\n",
       "    .dataframe thead th {\n",
       "        text-align: right;\n",
       "    }\n",
       "</style>\n",
       "<table border=\"1\" class=\"dataframe\">\n",
       "  <thead>\n",
       "    <tr style=\"text-align: right;\">\n",
       "      <th></th>\n",
       "      <th>variant_id</th>\n",
       "      <th>product_type</th>\n",
       "      <th>order_id</th>\n",
       "      <th>user_id</th>\n",
       "      <th>created_at</th>\n",
       "      <th>order_date</th>\n",
       "      <th>user_order_seq</th>\n",
       "      <th>outcome</th>\n",
       "      <th>ordered_before</th>\n",
       "      <th>abandoned_before</th>\n",
       "      <th>...</th>\n",
       "      <th>count_children</th>\n",
       "      <th>count_babies</th>\n",
       "      <th>count_pets</th>\n",
       "      <th>people_ex_baby</th>\n",
       "      <th>days_since_purchase_variant_id</th>\n",
       "      <th>avg_days_to_buy_variant_id</th>\n",
       "      <th>std_days_to_buy_variant_id</th>\n",
       "      <th>days_since_purchase_product_type</th>\n",
       "      <th>avg_days_to_buy_product_type</th>\n",
       "      <th>std_days_to_buy_product_type</th>\n",
       "    </tr>\n",
       "  </thead>\n",
       "  <tbody>\n",
       "    <tr>\n",
       "      <th>0</th>\n",
       "      <td>33826472919172</td>\n",
       "      <td>ricepastapulses</td>\n",
       "      <td>2807985930372</td>\n",
       "      <td>3482464092292</td>\n",
       "      <td>2020-10-05 16:46:19</td>\n",
       "      <td>2020-10-05 00:00:00</td>\n",
       "      <td>3</td>\n",
       "      <td>0.0</td>\n",
       "      <td>0.0</td>\n",
       "      <td>0.0</td>\n",
       "      <td>...</td>\n",
       "      <td>0.0</td>\n",
       "      <td>0.0</td>\n",
       "      <td>0.0</td>\n",
       "      <td>2.0</td>\n",
       "      <td>33.0</td>\n",
       "      <td>42.0</td>\n",
       "      <td>31.134053</td>\n",
       "      <td>30.0</td>\n",
       "      <td>30.0</td>\n",
       "      <td>24.27618</td>\n",
       "    </tr>\n",
       "    <tr>\n",
       "      <th>1</th>\n",
       "      <td>33826472919172</td>\n",
       "      <td>ricepastapulses</td>\n",
       "      <td>2808027644036</td>\n",
       "      <td>3466586718340</td>\n",
       "      <td>2020-10-05 17:59:51</td>\n",
       "      <td>2020-10-05 00:00:00</td>\n",
       "      <td>2</td>\n",
       "      <td>0.0</td>\n",
       "      <td>0.0</td>\n",
       "      <td>0.0</td>\n",
       "      <td>...</td>\n",
       "      <td>0.0</td>\n",
       "      <td>0.0</td>\n",
       "      <td>0.0</td>\n",
       "      <td>2.0</td>\n",
       "      <td>33.0</td>\n",
       "      <td>42.0</td>\n",
       "      <td>31.134053</td>\n",
       "      <td>30.0</td>\n",
       "      <td>30.0</td>\n",
       "      <td>24.27618</td>\n",
       "    </tr>\n",
       "    <tr>\n",
       "      <th>2</th>\n",
       "      <td>33826472919172</td>\n",
       "      <td>ricepastapulses</td>\n",
       "      <td>2808099078276</td>\n",
       "      <td>3481384026244</td>\n",
       "      <td>2020-10-05 20:08:53</td>\n",
       "      <td>2020-10-05 00:00:00</td>\n",
       "      <td>4</td>\n",
       "      <td>0.0</td>\n",
       "      <td>0.0</td>\n",
       "      <td>0.0</td>\n",
       "      <td>...</td>\n",
       "      <td>0.0</td>\n",
       "      <td>0.0</td>\n",
       "      <td>0.0</td>\n",
       "      <td>2.0</td>\n",
       "      <td>33.0</td>\n",
       "      <td>42.0</td>\n",
       "      <td>31.134053</td>\n",
       "      <td>30.0</td>\n",
       "      <td>30.0</td>\n",
       "      <td>24.27618</td>\n",
       "    </tr>\n",
       "    <tr>\n",
       "      <th>3</th>\n",
       "      <td>33826472919172</td>\n",
       "      <td>ricepastapulses</td>\n",
       "      <td>2808393957508</td>\n",
       "      <td>3291363377284</td>\n",
       "      <td>2020-10-06 08:57:59</td>\n",
       "      <td>2020-10-06 00:00:00</td>\n",
       "      <td>2</td>\n",
       "      <td>0.0</td>\n",
       "      <td>0.0</td>\n",
       "      <td>0.0</td>\n",
       "      <td>...</td>\n",
       "      <td>0.0</td>\n",
       "      <td>0.0</td>\n",
       "      <td>0.0</td>\n",
       "      <td>2.0</td>\n",
       "      <td>33.0</td>\n",
       "      <td>42.0</td>\n",
       "      <td>31.134053</td>\n",
       "      <td>30.0</td>\n",
       "      <td>30.0</td>\n",
       "      <td>24.27618</td>\n",
       "    </tr>\n",
       "    <tr>\n",
       "      <th>4</th>\n",
       "      <td>33826472919172</td>\n",
       "      <td>ricepastapulses</td>\n",
       "      <td>2808429314180</td>\n",
       "      <td>3537167515780</td>\n",
       "      <td>2020-10-06 10:37:05</td>\n",
       "      <td>2020-10-06 00:00:00</td>\n",
       "      <td>3</td>\n",
       "      <td>0.0</td>\n",
       "      <td>0.0</td>\n",
       "      <td>0.0</td>\n",
       "      <td>...</td>\n",
       "      <td>0.0</td>\n",
       "      <td>0.0</td>\n",
       "      <td>0.0</td>\n",
       "      <td>2.0</td>\n",
       "      <td>33.0</td>\n",
       "      <td>42.0</td>\n",
       "      <td>31.134053</td>\n",
       "      <td>30.0</td>\n",
       "      <td>30.0</td>\n",
       "      <td>24.27618</td>\n",
       "    </tr>\n",
       "  </tbody>\n",
       "</table>\n",
       "<p>5 rows × 27 columns</p>\n",
       "</div>"
      ],
      "text/plain": [
       "       variant_id     product_type       order_id        user_id  \\\n",
       "0  33826472919172  ricepastapulses  2807985930372  3482464092292   \n",
       "1  33826472919172  ricepastapulses  2808027644036  3466586718340   \n",
       "2  33826472919172  ricepastapulses  2808099078276  3481384026244   \n",
       "3  33826472919172  ricepastapulses  2808393957508  3291363377284   \n",
       "4  33826472919172  ricepastapulses  2808429314180  3537167515780   \n",
       "\n",
       "            created_at           order_date  user_order_seq  outcome  \\\n",
       "0  2020-10-05 16:46:19  2020-10-05 00:00:00               3      0.0   \n",
       "1  2020-10-05 17:59:51  2020-10-05 00:00:00               2      0.0   \n",
       "2  2020-10-05 20:08:53  2020-10-05 00:00:00               4      0.0   \n",
       "3  2020-10-06 08:57:59  2020-10-06 00:00:00               2      0.0   \n",
       "4  2020-10-06 10:37:05  2020-10-06 00:00:00               3      0.0   \n",
       "\n",
       "   ordered_before  abandoned_before  ...  count_children  count_babies  \\\n",
       "0             0.0               0.0  ...             0.0           0.0   \n",
       "1             0.0               0.0  ...             0.0           0.0   \n",
       "2             0.0               0.0  ...             0.0           0.0   \n",
       "3             0.0               0.0  ...             0.0           0.0   \n",
       "4             0.0               0.0  ...             0.0           0.0   \n",
       "\n",
       "   count_pets  people_ex_baby days_since_purchase_variant_id  \\\n",
       "0         0.0             2.0                           33.0   \n",
       "1         0.0             2.0                           33.0   \n",
       "2         0.0             2.0                           33.0   \n",
       "3         0.0             2.0                           33.0   \n",
       "4         0.0             2.0                           33.0   \n",
       "\n",
       "   avg_days_to_buy_variant_id  std_days_to_buy_variant_id  \\\n",
       "0                        42.0                   31.134053   \n",
       "1                        42.0                   31.134053   \n",
       "2                        42.0                   31.134053   \n",
       "3                        42.0                   31.134053   \n",
       "4                        42.0                   31.134053   \n",
       "\n",
       "   days_since_purchase_product_type  avg_days_to_buy_product_type  \\\n",
       "0                              30.0                          30.0   \n",
       "1                              30.0                          30.0   \n",
       "2                              30.0                          30.0   \n",
       "3                              30.0                          30.0   \n",
       "4                              30.0                          30.0   \n",
       "\n",
       "   std_days_to_buy_product_type  \n",
       "0                      24.27618  \n",
       "1                      24.27618  \n",
       "2                      24.27618  \n",
       "3                      24.27618  \n",
       "4                      24.27618  \n",
       "\n",
       "[5 rows x 27 columns]"
      ]
     },
     "execution_count": 3,
     "metadata": {},
     "output_type": "execute_result"
    }
   ],
   "source": [
    "df.head()"
   ]
  },
  {
   "cell_type": "code",
   "execution_count": 4,
   "metadata": {},
   "outputs": [
    {
     "name": "stdout",
     "output_type": "stream",
     "text": [
      "<class 'pandas.core.frame.DataFrame'>\n",
      "RangeIndex: 2880549 entries, 0 to 2880548\n",
      "Data columns (total 27 columns):\n",
      " #   Column                            Dtype  \n",
      "---  ------                            -----  \n",
      " 0   variant_id                        int64  \n",
      " 1   product_type                      object \n",
      " 2   order_id                          int64  \n",
      " 3   user_id                           int64  \n",
      " 4   created_at                        object \n",
      " 5   order_date                        object \n",
      " 6   user_order_seq                    int64  \n",
      " 7   outcome                           float64\n",
      " 8   ordered_before                    float64\n",
      " 9   abandoned_before                  float64\n",
      " 10  active_snoozed                    float64\n",
      " 11  set_as_regular                    float64\n",
      " 12  normalised_price                  float64\n",
      " 13  discount_pct                      float64\n",
      " 14  vendor                            object \n",
      " 15  global_popularity                 float64\n",
      " 16  count_adults                      float64\n",
      " 17  count_children                    float64\n",
      " 18  count_babies                      float64\n",
      " 19  count_pets                        float64\n",
      " 20  people_ex_baby                    float64\n",
      " 21  days_since_purchase_variant_id    float64\n",
      " 22  avg_days_to_buy_variant_id        float64\n",
      " 23  std_days_to_buy_variant_id        float64\n",
      " 24  days_since_purchase_product_type  float64\n",
      " 25  avg_days_to_buy_product_type      float64\n",
      " 26  std_days_to_buy_product_type      float64\n",
      "dtypes: float64(19), int64(4), object(4)\n",
      "memory usage: 593.4+ MB\n"
     ]
    }
   ],
   "source": [
    "df.info()"
   ]
  },
  {
   "cell_type": "code",
   "execution_count": 5,
   "metadata": {},
   "outputs": [],
   "source": [
    "info_cols = ['variant_id', 'order_id', 'user_id','created_at', 'order_date']\n",
    "label_col = 'outcome'\n",
    "features_cols = [col for col in df.columns if col not in info_cols + [label_col]]\n",
    "\n",
    "categorical_cols = ['product_type', 'vendor']\n",
    "binary_cols = ['ordered_before', 'abandoned_before', 'active_snoozed', 'set_as_regular']\n",
    "numerical_cols = [col for col in features_cols if col not in categorical_cols + binary_cols]"
   ]
  },
  {
   "cell_type": "code",
   "execution_count": 31,
   "metadata": {},
   "outputs": [],
   "source": [
    "#quedarnos solo con ordenes de 5 o + productos\n",
    "def push_relevant_dataframe(df: pd.DataFrame, min_products: int = 5) -> pd.DataFrame:\n",
    "    \"\"\"We are only interested in big enough orders that are profitable\"\"\"\n",
    "    order_size=df.groupby(\"order_id\").outcome.sum()\n",
    "    orders_of_min_size = order_size[order_size >= min_products].index\n",
    "    return df.loc[lambda x: x.order_id.isin(orders_of_min_size)]\n",
    "\n",
    "df_selected = (\n",
    "    df.pipe(push_relevant_dataframe)\n",
    "    .assign(created_at=lambda x: pd.to_datetime(x.created_at))\n",
    "    .assign(order_date=lambda x: pd.to_datetime(x.order_date).dt.date)\n",
    ")"
   ]
  },
  {
   "cell_type": "code",
   "execution_count": 32,
   "metadata": {},
   "outputs": [
    {
     "data": {
      "text/plain": [
       "True"
      ]
     },
     "execution_count": 32,
     "metadata": {},
     "output_type": "execute_result"
    }
   ],
   "source": [
    "df.order_id.nunique() > df_selected.order_id.nunique()"
   ]
  },
  {
   "cell_type": "code",
   "execution_count": 33,
   "metadata": {},
   "outputs": [],
   "source": [
    "daily_orders = df_selected.groupby(\"order_date\").order_id.nunique()"
   ]
  },
  {
   "cell_type": "code",
   "execution_count": 34,
   "metadata": {},
   "outputs": [
    {
     "data": {
      "text/plain": [
       "order_date\n",
       "2020-10-05     3\n",
       "2020-10-06     7\n",
       "2020-10-07     6\n",
       "2020-10-08    12\n",
       "2020-10-09     4\n",
       "Name: order_id, dtype: int64"
      ]
     },
     "execution_count": 34,
     "metadata": {},
     "output_type": "execute_result"
    }
   ],
   "source": [
    "daily_orders.head()"
   ]
  },
  {
   "cell_type": "code",
   "execution_count": 35,
   "metadata": {},
   "outputs": [
    {
     "data": {
      "text/plain": [
       "Text(0.5, 1.0, 'Daily orders')"
      ]
     },
     "execution_count": 35,
     "metadata": {},
     "output_type": "execute_result"
    },
    {
     "data": {
      "image/png": "[encoded data removed]",
      "text/plain": [
       "<Figure size 640x480 with 1 Axes>"
      ]
     },
     "metadata": {},
     "output_type": "display_data"
    }
   ],
   "source": [
    "plt.plot(daily_orders)\n",
    "plt.title(\"Daily orders\")"
   ]
  },
  {
   "cell_type": "markdown",
   "metadata": {},
   "source": [
    "Como hemos visto durante el EDA, hay una evolución fuerte que refleja el cambio del negocio, debido a ese cambio no podemos asumir que la base de usuarios ni las dinamicas de compras sean las mismas durante todo el tiempo. \n",
    "\n",
    "\n",
    "Asegurarnos de que ordenes no estan divididas entre train y validacion (toda la orden entera en train o validation), porque el modelo puede aprender por las features que dos productos son parecidos y ese usuario los compra los dos, si lo compra en train, lo va a comprar en test porque esta apareciendo la misma orden en los dos sitios.\n",
    "\n",
    "Ademas de esto, temporal split, train va a ser mas antiguo y test mas nuevo "
   ]
  },
  {
   "cell_type": "code",
   "execution_count": 37,
   "metadata": {},
   "outputs": [
    {
     "name": "stdout",
     "output_type": "stream",
     "text": [
      "Train since: 2020-10-05\n",
      "Train until: 2021-02-04\n",
      "Val until: 2021-02-22\n",
      "Test until: 2021-03-03\n"
     ]
    }
   ],
   "source": [
    "cumsum_daily_orders = daily_orders.cumsum() / daily_orders.sum()\n",
    "\n",
    "train_val_cutoff = cumsum_daily_orders[cumsum_daily_orders <= 0.7].idxmax()\n",
    "val_test_cutoff = cumsum_daily_orders[cumsum_daily_orders <= 0.9].idxmax()\n",
    "\n",
    "print(\"Train since:\", cumsum_daily_orders.index.min())\n",
    "print(\"Train until:\", train_val_cutoff)\n",
    "print(\"Val until:\", val_test_cutoff)\n",
    "print(\"Test until:\", cumsum_daily_orders.index.max())"
   ]
  },
  {
   "cell_type": "markdown",
   "metadata": {},
   "source": [
    "Un potencial problema es que en una tendencia temporal hay que pensar en validar y testear con al menos un ciclo de negocio (un supermercado seria idoneo testear sobre una semana, no solo 2 dias, ya que puede ser que las compras de finde semana sean muy facil de predecir y el error sea menor del que realmente es), en este caso no hay problema porque tenemos suficientes datos"
   ]
  },
  {
   "cell_type": "code",
   "execution_count": 40,
   "metadata": {},
   "outputs": [
    {
     "data": {
      "text/plain": [
       "<Axes: xlabel='dayofweek'>"
      ]
     },
     "execution_count": 40,
     "metadata": {},
     "output_type": "execute_result"
    },
    {
     "data": {
      "image/png": "[encoded data removed]",
      "text/plain": [
       "<Figure size 640x480 with 1 Axes>"
      ]
     },
     "metadata": {},
     "output_type": "display_data"
    }
   ],
   "source": [
    "daily_orders.reset_index().assign(dayofweek=lambda x: pd.to_datetime(x.order_date).dt.dayofweek).groupby(\"dayofweek\").order_id.mean().plot(kind=\"bar\")"
   ]
  },
  {
   "cell_type": "markdown",
   "metadata": {},
   "source": [
    "Vemos como el jueves comparado con el sabado es un 25% menor el tipo de ordenes, seguramente el tipo de productos que se venden en cada dia sean diferentes."
   ]
  },
  {
   "cell_type": "code",
   "execution_count": 41,
   "metadata": {},
   "outputs": [],
   "source": [
    "train_df = df_selected[df_selected.order_date <= train_val_cutoff]\n",
    "val_df = df_selected[\n",
    "    (df_selected.order_date >= train_val_cutoff)\n",
    "    & (df_selected.order_date <= val_test_cutoff)\n",
    "]\n",
    "test_df = df_selected[df_selected.order_date > val_test_cutoff]"
   ]
  },
  {
   "cell_type": "markdown",
   "metadata": {},
   "source": [
    "## ***Baseline***"
   ]
  },
  {
   "cell_type": "markdown",
   "metadata": {},
   "source": [
    "No podemos saber si algo es bueno o malo en el vacio. \n",
    "\n",
    "SIEMPRE SIEMPRE empezar con un baseline, un modelo es bueno o malo comparado con un baseline.\n",
    "\n",
    "Hay muchos casos en los que el baseline esta muy cerca de la solución de ML, porque son dificiles de batir.\n",
    "\n",
    "\n",
    "Ejemplo, random guess como baseline y que mi solucion mejoré random guess (en este caso si la proporcion es 97% de 0's y 3% de 1's, un 3% de las veces de forma aleatoria digo que es 1)\n",
    "\n",
    "\n",
    "Baseline optimo ? --> ¿Si tengo que resolver el problema sin ML, que propongo? \n",
    "\n",
    "1. Sistema que ya existe antes de que pongamos nuestro modelo de ML\n",
    "\n",
    "2. El mejor modelo posible que podamos hacer sin ML\n",
    "\n",
    "Ejemplo: Sabemos que un 3% de la población tiene gripe, pero tenemos unas tablas por edad con probabilidad gripe (persona de 65 años 12% prob de gripe, persona de 8 años 4% de prob), es un buen baseline porque es mejor que random, y mi modelo de ML debe superar ese baseline.\n",
    "\n",
    "Para justificar la complejidad añadida de tener un modelo de mL en produción hay que justificarlo con que supera el baseline (si existia un sistema antes ese es el baseline seguro)."
   ]
  },
  {
   "cell_type": "markdown",
   "metadata": {},
   "source": [
    " En este caso el baseline que se define es que la probabilidad de que un producto se compre, es su popularidad (mejor que random)"
   ]
  },
  {
   "cell_type": "markdown",
   "metadata": {},
   "source": [
    "Se define tambien como se van a evaluar los modelos. Como hay un trade-off claro entre cuantas notificaciones mandamos a los usuarios y cuanto aumentamos las ventas (mayor nº de notificaciones aumentaria ventas pero tambien provocaria que usuarios se borren app --> ¿cuanto molesto a mis usuarios y cuanto consigo aumentar ls ventas? --> precision-recall --> vamos a fijarnos en la curva roc y curva precision-recall para cada modelo porque no se en que punto de trabajo va a querer trabajar el negocio)"
   ]
  },
  {
   "cell_type": "code",
   "execution_count": 48,
   "metadata": {},
   "outputs": [],
   "source": [
    "def plot_metrics(\n",
    "        model_name: str,\n",
    "        y_pred: pd.Series,\n",
    "        y_test: pd.Series,\n",
    "        target_precision: float = 0.05,\n",
    "        figure: Tuple[matplotlib.figure.Figure, np.array] = None,\n",
    "):\n",
    "    precision_, recall_, _ = precision_recall_curve(y_test, y_pred)\n",
    "    pr_auc = auc(recall_, precision_)\n",
    "\n",
    "    fpr, tpr, _ = roc_curve(y_test, y_pred)\n",
    "    roc_auc = roc_auc_score(y_test, y_pred)\n",
    "\n",
    "    if figure is None:\n",
    "        fig, ax = plt.subplots(1, 2, figsize=(14, 7))\n",
    "    else:\n",
    "        fig, ax = figure\n",
    "    \n",
    "    ax[0].plot(recall_, precision_, label=f\"{model_name}; AUC: {pr_auc:.2f}\")\n",
    "    ax[0].set_xlabel(\"recall\")\n",
    "    ax[0].set_ylabel(\"precision\")\n",
    "    ax[0].set_title(\"Precision-recall curve\")\n",
    "    ax[0].legend\n",
    "\n",
    "    ax[1].plot(fpr, tpr, label=f\"AUC: {roc_auc:.2f}\")\n",
    "    ax[1].set_xlabel(\"FPR\")\n",
    "    ax[1].set_ylabel(\"TPR\")\n",
    "    ax[1].set_title(\"ROC curve\")\n",
    "    ax[1].legend()"
   ]
  },
  {
   "cell_type": "code",
   "execution_count": 49,
   "metadata": {},
   "outputs": [
    {
     "data": {
      "image/png": "[encoded data removed]",
      "text/plain": [
       "<Figure size 1400x700 with 2 Axes>"
      ]
     },
     "metadata": {},
     "output_type": "display_data"
    }
   ],
   "source": [
    "plot_metrics(\"Popularity baseline\", y_pred=val_df[\"global_popularity\"], y_test=val_df[label_col])"
   ]
  },
  {
   "cell_type": "markdown",
   "metadata": {},
   "source": [
    "# Model training"
   ]
  },
  {
   "cell_type": "markdown",
   "metadata": {},
   "source": [
    "Después de definir el baseline, se suele empezar por un modelo lineal, mi modelo lineal es mi segundo baseline, si con modelo no lineal no supero al modelo lineal no justifico la complejidad añadida.\n",
    "\n",
    "1. Baseline (sin ML)\n",
    "\n",
    "2. Modelo lineal ML basico\n",
    "\n",
    "3. Modelos no lineales"
   ]
  },
  {
   "cell_type": "code",
   "execution_count": 50,
   "metadata": {},
   "outputs": [],
   "source": [
    "def feature_label_split(df: pd.DataFrame, label_col: str) -> Tuple[pd.DataFrame, pd.Series]:\n",
    "    return df.drop(label_col, axis=1), df[label_col]\n",
    "\n",
    "X_train, y_train = feature_label_split(train_df, label_col)\n",
    "X_val, y_val = feature_label_split(val_df, label_col)\n",
    "X_test, y_test = feature_label_split(test_df, label_col)"
   ]
  },
  {
   "cell_type": "code",
   "execution_count": null,
   "metadata": {},
   "outputs": [],
   "source": [
    "train_cols = numerical_cols + binary_cols"
   ]
  },
  {
   "cell_type": "markdown",
   "metadata": {},
   "source": [
    "Columnas de entrenamiento seran numericas y binarias, dejo fuera categoricas porque para aumentar complejidad tengo que justificar que esa complejidad mejora los resultados.\n",
    "\n",
    "Es un proceso de aumentar complejidad iterativamente, porque en cada paso si mayor complejidad no justifica resultados no deberia añadirlo"
   ]
  },
  {
   "cell_type": "markdown",
   "metadata": {},
   "source": [
    "## Ridge regression"
   ]
  },
  {
   "cell_type": "code",
   "execution_count": null,
   "metadata": {},
   "outputs": [],
   "source": [
    "#usar pipelines porque une todos los pasos que forman parte del proceso de entrenamiento\n",
    "\n",
    "lr_push_train_aucs = []\n",
    "lr_push_val_aucs = []\n",
    "lr_push_train_ce = []\n",
    "lr_push_val_ce = []\n",
    "\n"
   ]
  },
  {
   "cell_type": "code",
   "execution_count": null,
   "metadata": {},
   "outputs": [],
   "source": []
  }
 ],
 "metadata": {
  "kernelspec": {
   "display_name": "zrive-ds-lJfLNmKv-py3.11",
   "language": "python",
   "name": "python3"
  },
  "language_info": {
   "codemirror_mode": {
    "name": "ipython",
    "version": 3
   },
   "file_extension": ".py",
   "mimetype": "text/x-python",
   "name": "python",
   "nbconvert_exporter": "python",
   "pygments_lexer": "ipython3",
   "version": "3.11.0"
  }
 },
 "nbformat": 4,
 "nbformat_minor": 2
}
