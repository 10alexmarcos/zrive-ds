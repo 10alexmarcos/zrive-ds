{
 "cells": [
  {
   "cell_type": "markdown",
   "metadata": {},
   "source": [
    "# ***Feature frame dataset***"
   ]
  },
  {
   "cell_type": "code",
   "execution_count": 20,
   "metadata": {},
   "outputs": [],
   "source": [
    "import pandas as pd\n",
    "import matplotlib.pyplot as plt\n",
    "import seaborn as sns"
   ]
  },
  {
   "cell_type": "code",
   "execution_count": 21,
   "metadata": {},
   "outputs": [],
   "source": [
    "feature_frame_path = '/Users/alex/zriveAM/zrive-ds/aws/data/feature_frame.csv'\n",
    "feature_frame_df = pd.read_csv(feature_frame_path)"
   ]
  },
  {
   "cell_type": "code",
   "execution_count": 71,
   "metadata": {},
   "outputs": [
    {
     "data": {
      "text/html": [
       "<div>\n",
       "<style scoped>\n",
       "    .dataframe tbody tr th:only-of-type {\n",
       "        vertical-align: middle;\n",
       "    }\n",
       "\n",
       "    .dataframe tbody tr th {\n",
       "        vertical-align: top;\n",
       "    }\n",
       "\n",
       "    .dataframe thead th {\n",
       "        text-align: right;\n",
       "    }\n",
       "</style>\n",
       "<table border=\"1\" class=\"dataframe\">\n",
       "  <thead>\n",
       "    <tr style=\"text-align: right;\">\n",
       "      <th></th>\n",
       "      <th>variant_id</th>\n",
       "      <th>product_type</th>\n",
       "      <th>order_id</th>\n",
       "      <th>user_id</th>\n",
       "      <th>created_at</th>\n",
       "      <th>order_date</th>\n",
       "      <th>user_order_seq</th>\n",
       "      <th>outcome</th>\n",
       "      <th>ordered_before</th>\n",
       "      <th>abandoned_before</th>\n",
       "      <th>...</th>\n",
       "      <th>count_children</th>\n",
       "      <th>count_babies</th>\n",
       "      <th>count_pets</th>\n",
       "      <th>people_ex_baby</th>\n",
       "      <th>days_since_purchase_variant_id</th>\n",
       "      <th>avg_days_to_buy_variant_id</th>\n",
       "      <th>std_days_to_buy_variant_id</th>\n",
       "      <th>days_since_purchase_product_type</th>\n",
       "      <th>avg_days_to_buy_product_type</th>\n",
       "      <th>std_days_to_buy_product_type</th>\n",
       "    </tr>\n",
       "  </thead>\n",
       "  <tbody>\n",
       "    <tr>\n",
       "      <th>0</th>\n",
       "      <td>33826472919172</td>\n",
       "      <td>ricepastapulses</td>\n",
       "      <td>2807985930372</td>\n",
       "      <td>3482464092292</td>\n",
       "      <td>2020-10-05 16:46:19</td>\n",
       "      <td>2020-10-05 00:00:00</td>\n",
       "      <td>3</td>\n",
       "      <td>0.0</td>\n",
       "      <td>0.0</td>\n",
       "      <td>0.0</td>\n",
       "      <td>...</td>\n",
       "      <td>0.0</td>\n",
       "      <td>0.0</td>\n",
       "      <td>0.0</td>\n",
       "      <td>2.0</td>\n",
       "      <td>33.0</td>\n",
       "      <td>42.0</td>\n",
       "      <td>31.134053</td>\n",
       "      <td>30.0</td>\n",
       "      <td>30.0</td>\n",
       "      <td>24.27618</td>\n",
       "    </tr>\n",
       "    <tr>\n",
       "      <th>1</th>\n",
       "      <td>33826472919172</td>\n",
       "      <td>ricepastapulses</td>\n",
       "      <td>2808027644036</td>\n",
       "      <td>3466586718340</td>\n",
       "      <td>2020-10-05 17:59:51</td>\n",
       "      <td>2020-10-05 00:00:00</td>\n",
       "      <td>2</td>\n",
       "      <td>0.0</td>\n",
       "      <td>0.0</td>\n",
       "      <td>0.0</td>\n",
       "      <td>...</td>\n",
       "      <td>0.0</td>\n",
       "      <td>0.0</td>\n",
       "      <td>0.0</td>\n",
       "      <td>2.0</td>\n",
       "      <td>33.0</td>\n",
       "      <td>42.0</td>\n",
       "      <td>31.134053</td>\n",
       "      <td>30.0</td>\n",
       "      <td>30.0</td>\n",
       "      <td>24.27618</td>\n",
       "    </tr>\n",
       "    <tr>\n",
       "      <th>2</th>\n",
       "      <td>33826472919172</td>\n",
       "      <td>ricepastapulses</td>\n",
       "      <td>2808099078276</td>\n",
       "      <td>3481384026244</td>\n",
       "      <td>2020-10-05 20:08:53</td>\n",
       "      <td>2020-10-05 00:00:00</td>\n",
       "      <td>4</td>\n",
       "      <td>0.0</td>\n",
       "      <td>0.0</td>\n",
       "      <td>0.0</td>\n",
       "      <td>...</td>\n",
       "      <td>0.0</td>\n",
       "      <td>0.0</td>\n",
       "      <td>0.0</td>\n",
       "      <td>2.0</td>\n",
       "      <td>33.0</td>\n",
       "      <td>42.0</td>\n",
       "      <td>31.134053</td>\n",
       "      <td>30.0</td>\n",
       "      <td>30.0</td>\n",
       "      <td>24.27618</td>\n",
       "    </tr>\n",
       "    <tr>\n",
       "      <th>3</th>\n",
       "      <td>33826472919172</td>\n",
       "      <td>ricepastapulses</td>\n",
       "      <td>2808393957508</td>\n",
       "      <td>3291363377284</td>\n",
       "      <td>2020-10-06 08:57:59</td>\n",
       "      <td>2020-10-06 00:00:00</td>\n",
       "      <td>2</td>\n",
       "      <td>0.0</td>\n",
       "      <td>0.0</td>\n",
       "      <td>0.0</td>\n",
       "      <td>...</td>\n",
       "      <td>0.0</td>\n",
       "      <td>0.0</td>\n",
       "      <td>0.0</td>\n",
       "      <td>2.0</td>\n",
       "      <td>33.0</td>\n",
       "      <td>42.0</td>\n",
       "      <td>31.134053</td>\n",
       "      <td>30.0</td>\n",
       "      <td>30.0</td>\n",
       "      <td>24.27618</td>\n",
       "    </tr>\n",
       "    <tr>\n",
       "      <th>4</th>\n",
       "      <td>33826472919172</td>\n",
       "      <td>ricepastapulses</td>\n",
       "      <td>2808429314180</td>\n",
       "      <td>3537167515780</td>\n",
       "      <td>2020-10-06 10:37:05</td>\n",
       "      <td>2020-10-06 00:00:00</td>\n",
       "      <td>3</td>\n",
       "      <td>0.0</td>\n",
       "      <td>0.0</td>\n",
       "      <td>0.0</td>\n",
       "      <td>...</td>\n",
       "      <td>0.0</td>\n",
       "      <td>0.0</td>\n",
       "      <td>0.0</td>\n",
       "      <td>2.0</td>\n",
       "      <td>33.0</td>\n",
       "      <td>42.0</td>\n",
       "      <td>31.134053</td>\n",
       "      <td>30.0</td>\n",
       "      <td>30.0</td>\n",
       "      <td>24.27618</td>\n",
       "    </tr>\n",
       "    <tr>\n",
       "      <th>5</th>\n",
       "      <td>33826472919172</td>\n",
       "      <td>ricepastapulses</td>\n",
       "      <td>2808434524292</td>\n",
       "      <td>3479090790532</td>\n",
       "      <td>2020-10-06 10:50:23</td>\n",
       "      <td>2020-10-06 00:00:00</td>\n",
       "      <td>3</td>\n",
       "      <td>0.0</td>\n",
       "      <td>0.0</td>\n",
       "      <td>0.0</td>\n",
       "      <td>...</td>\n",
       "      <td>0.0</td>\n",
       "      <td>0.0</td>\n",
       "      <td>0.0</td>\n",
       "      <td>2.0</td>\n",
       "      <td>33.0</td>\n",
       "      <td>42.0</td>\n",
       "      <td>31.134053</td>\n",
       "      <td>30.0</td>\n",
       "      <td>30.0</td>\n",
       "      <td>24.27618</td>\n",
       "    </tr>\n",
       "    <tr>\n",
       "      <th>6</th>\n",
       "      <td>33826472919172</td>\n",
       "      <td>ricepastapulses</td>\n",
       "      <td>2808548917380</td>\n",
       "      <td>3476645445764</td>\n",
       "      <td>2020-10-06 14:23:08</td>\n",
       "      <td>2020-10-06 00:00:00</td>\n",
       "      <td>5</td>\n",
       "      <td>0.0</td>\n",
       "      <td>1.0</td>\n",
       "      <td>0.0</td>\n",
       "      <td>...</td>\n",
       "      <td>0.0</td>\n",
       "      <td>0.0</td>\n",
       "      <td>0.0</td>\n",
       "      <td>2.0</td>\n",
       "      <td>33.0</td>\n",
       "      <td>42.0</td>\n",
       "      <td>31.134053</td>\n",
       "      <td>30.0</td>\n",
       "      <td>30.0</td>\n",
       "      <td>24.27618</td>\n",
       "    </tr>\n",
       "    <tr>\n",
       "      <th>7</th>\n",
       "      <td>33826472919172</td>\n",
       "      <td>ricepastapulses</td>\n",
       "      <td>2808549900420</td>\n",
       "      <td>3437017956484</td>\n",
       "      <td>2020-10-06 14:24:26</td>\n",
       "      <td>2020-10-06 00:00:00</td>\n",
       "      <td>13</td>\n",
       "      <td>0.0</td>\n",
       "      <td>0.0</td>\n",
       "      <td>0.0</td>\n",
       "      <td>...</td>\n",
       "      <td>0.0</td>\n",
       "      <td>0.0</td>\n",
       "      <td>0.0</td>\n",
       "      <td>2.0</td>\n",
       "      <td>33.0</td>\n",
       "      <td>42.0</td>\n",
       "      <td>31.134053</td>\n",
       "      <td>30.0</td>\n",
       "      <td>30.0</td>\n",
       "      <td>24.27618</td>\n",
       "    </tr>\n",
       "    <tr>\n",
       "      <th>8</th>\n",
       "      <td>33826472919172</td>\n",
       "      <td>ricepastapulses</td>\n",
       "      <td>2808673927300</td>\n",
       "      <td>3539005440132</td>\n",
       "      <td>2020-10-06 17:57:23</td>\n",
       "      <td>2020-10-06 00:00:00</td>\n",
       "      <td>2</td>\n",
       "      <td>0.0</td>\n",
       "      <td>0.0</td>\n",
       "      <td>0.0</td>\n",
       "      <td>...</td>\n",
       "      <td>0.0</td>\n",
       "      <td>0.0</td>\n",
       "      <td>0.0</td>\n",
       "      <td>2.0</td>\n",
       "      <td>33.0</td>\n",
       "      <td>42.0</td>\n",
       "      <td>31.134053</td>\n",
       "      <td>30.0</td>\n",
       "      <td>30.0</td>\n",
       "      <td>24.27618</td>\n",
       "    </tr>\n",
       "    <tr>\n",
       "      <th>9</th>\n",
       "      <td>33826472919172</td>\n",
       "      <td>ricepastapulses</td>\n",
       "      <td>2808728715396</td>\n",
       "      <td>3421126885508</td>\n",
       "      <td>2020-10-06 19:36:06</td>\n",
       "      <td>2020-10-06 00:00:00</td>\n",
       "      <td>2</td>\n",
       "      <td>0.0</td>\n",
       "      <td>0.0</td>\n",
       "      <td>0.0</td>\n",
       "      <td>...</td>\n",
       "      <td>0.0</td>\n",
       "      <td>0.0</td>\n",
       "      <td>0.0</td>\n",
       "      <td>2.0</td>\n",
       "      <td>33.0</td>\n",
       "      <td>42.0</td>\n",
       "      <td>31.134053</td>\n",
       "      <td>30.0</td>\n",
       "      <td>30.0</td>\n",
       "      <td>24.27618</td>\n",
       "    </tr>\n",
       "  </tbody>\n",
       "</table>\n",
       "<p>10 rows × 27 columns</p>\n",
       "</div>"
      ],
      "text/plain": [
       "       variant_id     product_type       order_id        user_id  \\\n",
       "0  33826472919172  ricepastapulses  2807985930372  3482464092292   \n",
       "1  33826472919172  ricepastapulses  2808027644036  3466586718340   \n",
       "2  33826472919172  ricepastapulses  2808099078276  3481384026244   \n",
       "3  33826472919172  ricepastapulses  2808393957508  3291363377284   \n",
       "4  33826472919172  ricepastapulses  2808429314180  3537167515780   \n",
       "5  33826472919172  ricepastapulses  2808434524292  3479090790532   \n",
       "6  33826472919172  ricepastapulses  2808548917380  3476645445764   \n",
       "7  33826472919172  ricepastapulses  2808549900420  3437017956484   \n",
       "8  33826472919172  ricepastapulses  2808673927300  3539005440132   \n",
       "9  33826472919172  ricepastapulses  2808728715396  3421126885508   \n",
       "\n",
       "            created_at           order_date  user_order_seq  outcome  \\\n",
       "0  2020-10-05 16:46:19  2020-10-05 00:00:00               3      0.0   \n",
       "1  2020-10-05 17:59:51  2020-10-05 00:00:00               2      0.0   \n",
       "2  2020-10-05 20:08:53  2020-10-05 00:00:00               4      0.0   \n",
       "3  2020-10-06 08:57:59  2020-10-06 00:00:00               2      0.0   \n",
       "4  2020-10-06 10:37:05  2020-10-06 00:00:00               3      0.0   \n",
       "5  2020-10-06 10:50:23  2020-10-06 00:00:00               3      0.0   \n",
       "6  2020-10-06 14:23:08  2020-10-06 00:00:00               5      0.0   \n",
       "7  2020-10-06 14:24:26  2020-10-06 00:00:00              13      0.0   \n",
       "8  2020-10-06 17:57:23  2020-10-06 00:00:00               2      0.0   \n",
       "9  2020-10-06 19:36:06  2020-10-06 00:00:00               2      0.0   \n",
       "\n",
       "   ordered_before  abandoned_before  ...  count_children  count_babies  \\\n",
       "0             0.0               0.0  ...             0.0           0.0   \n",
       "1             0.0               0.0  ...             0.0           0.0   \n",
       "2             0.0               0.0  ...             0.0           0.0   \n",
       "3             0.0               0.0  ...             0.0           0.0   \n",
       "4             0.0               0.0  ...             0.0           0.0   \n",
       "5             0.0               0.0  ...             0.0           0.0   \n",
       "6             1.0               0.0  ...             0.0           0.0   \n",
       "7             0.0               0.0  ...             0.0           0.0   \n",
       "8             0.0               0.0  ...             0.0           0.0   \n",
       "9             0.0               0.0  ...             0.0           0.0   \n",
       "\n",
       "   count_pets  people_ex_baby days_since_purchase_variant_id  \\\n",
       "0         0.0             2.0                           33.0   \n",
       "1         0.0             2.0                           33.0   \n",
       "2         0.0             2.0                           33.0   \n",
       "3         0.0             2.0                           33.0   \n",
       "4         0.0             2.0                           33.0   \n",
       "5         0.0             2.0                           33.0   \n",
       "6         0.0             2.0                           33.0   \n",
       "7         0.0             2.0                           33.0   \n",
       "8         0.0             2.0                           33.0   \n",
       "9         0.0             2.0                           33.0   \n",
       "\n",
       "   avg_days_to_buy_variant_id  std_days_to_buy_variant_id  \\\n",
       "0                        42.0                   31.134053   \n",
       "1                        42.0                   31.134053   \n",
       "2                        42.0                   31.134053   \n",
       "3                        42.0                   31.134053   \n",
       "4                        42.0                   31.134053   \n",
       "5                        42.0                   31.134053   \n",
       "6                        42.0                   31.134053   \n",
       "7                        42.0                   31.134053   \n",
       "8                        42.0                   31.134053   \n",
       "9                        42.0                   31.134053   \n",
       "\n",
       "   days_since_purchase_product_type  avg_days_to_buy_product_type  \\\n",
       "0                              30.0                          30.0   \n",
       "1                              30.0                          30.0   \n",
       "2                              30.0                          30.0   \n",
       "3                              30.0                          30.0   \n",
       "4                              30.0                          30.0   \n",
       "5                              30.0                          30.0   \n",
       "6                              30.0                          30.0   \n",
       "7                              30.0                          30.0   \n",
       "8                              30.0                          30.0   \n",
       "9                              30.0                          30.0   \n",
       "\n",
       "   std_days_to_buy_product_type  \n",
       "0                      24.27618  \n",
       "1                      24.27618  \n",
       "2                      24.27618  \n",
       "3                      24.27618  \n",
       "4                      24.27618  \n",
       "5                      24.27618  \n",
       "6                      24.27618  \n",
       "7                      24.27618  \n",
       "8                      24.27618  \n",
       "9                      24.27618  \n",
       "\n",
       "[10 rows x 27 columns]"
      ]
     },
     "execution_count": 71,
     "metadata": {},
     "output_type": "execute_result"
    }
   ],
   "source": [
    "feature_frame_df.head(10)"
   ]
  },
  {
   "cell_type": "code",
   "execution_count": 69,
   "metadata": {},
   "outputs": [
    {
     "data": {
      "text/plain": [
       "0    0.081052\n",
       "1    0.081052\n",
       "2    0.081052\n",
       "3    0.081052\n",
       "4    0.081052\n",
       "Name: normalised_price, dtype: float64"
      ]
     },
     "execution_count": 69,
     "metadata": {},
     "output_type": "execute_result"
    }
   ],
   "source": [
    "feature_frame_df['normalised_price'].head()"
   ]
  },
  {
   "cell_type": "markdown",
   "metadata": {},
   "source": [
    "Cada fila de este dataset es una combinación usuario-producto y outcome determina si ese usuario ha comprado ese producto, junto con otras columnas que nos dan información adiccional.\n",
    "\n",
    "Primero de todo, quiero comprobar si realmente existen todas las combinaciones."
   ]
  },
  {
   "cell_type": "code",
   "execution_count": 41,
   "metadata": {},
   "outputs": [
    {
     "name": "stdout",
     "output_type": "stream",
     "text": [
      "There are 976 unique products\n",
      "There are 1937 unique users\n",
      "There should be 1890512 unique combinations\n"
     ]
    }
   ],
   "source": [
    "unique_products= feature_frame_df['variant_id'].nunique()\n",
    "unique_users= feature_frame_df['user_id'].nunique()\n",
    "unique_combinations = unique_products * unique_users\n",
    "\n",
    "print(f\"There are {unique_products} unique products\")\n",
    "print(f\"There are {unique_users} unique users\")\n",
    "print(f\"There should be {unique_combinations} unique combinations\")\n"
   ]
  },
  {
   "cell_type": "code",
   "execution_count": 42,
   "metadata": {},
   "outputs": [
    {
     "name": "stdout",
     "output_type": "stream",
     "text": [
      "There are 1682424 unique combinations\n"
     ]
    }
   ],
   "source": [
    "real_unique_combinations= feature_frame_df[['variant_id', 'user_id']].drop_duplicates().shape[0]\n",
    "print(f\"There are {real_unique_combinations} unique combinations\")"
   ]
  },
  {
   "cell_type": "markdown",
   "metadata": {},
   "source": [
    "Lo que hago a continuación es ver la distribución de productos por usuario, lo cual nos ayuda a identificar algun patron en usuarios que no estan asociados a todos los productos"
   ]
  },
  {
   "cell_type": "code",
   "execution_count": 58,
   "metadata": {},
   "outputs": [
    {
     "name": "stdout",
     "output_type": "stream",
     "text": [
      "count    1937.000000\n",
      "mean      868.572019\n",
      "std        73.710590\n",
      "min       614.000000\n",
      "25%       834.000000\n",
      "50%       877.000000\n",
      "75%       915.000000\n",
      "max       976.000000\n",
      "Name: variant_id, dtype: float64\n",
      "--------------------------------------\n",
      "user_id\n",
      "3537167515780    614\n",
      "3421126885508    624\n",
      "3539005440132    624\n",
      "Name: variant_id, dtype: int64\n",
      "--------------------------------------\n",
      "user_id\n",
      "3874925314180    976\n",
      "3875142467716    976\n",
      "5029635227780    976\n",
      "Name: variant_id, dtype: int64\n"
     ]
    }
   ],
   "source": [
    "user_product_counts = feature_frame_df.groupby('user_id')['variant_id'].nunique()\n",
    "print(user_product_counts.describe())\n",
    "\n",
    "print('--------------------------------------')\n",
    "print(user_product_counts.sort_values().head(3))\n",
    "print('--------------------------------------')\n",
    "print(user_product_counts.sort_values().tail(3))\n"
   ]
  },
  {
   "cell_type": "code",
   "execution_count": 63,
   "metadata": {},
   "outputs": [
    {
     "name": "stdout",
     "output_type": "stream",
     "text": [
      "User 1 date: created_at\n",
      "2020-10-06 10:37:05    614\n",
      "Name: count, dtype: int64\n",
      "User 2 date: created_at\n",
      "2020-10-06 10:37:05    614\n",
      "Name: count, dtype: int64\n"
     ]
    }
   ],
   "source": [
    "user_1 = feature_frame_df[feature_frame_df['user_id'] == 3537167515780]\n",
    "print(\"User 1 date:\", user_1['created_at'].value_counts())\n",
    "\n",
    "user_2 = feature_frame_df[feature_frame_df['user_id'] == 3539005440132]\n",
    "print(\"User 2 date:\", user_1['created_at'].value_counts())\n"
   ]
  },
  {
   "cell_type": "code",
   "execution_count": 68,
   "metadata": {},
   "outputs": [
    {
     "name": "stdout",
     "output_type": "stream",
     "text": [
      "User 3 date: created_at\n",
      "2021-03-03 13:15:57    976\n",
      "Name: count, dtype: int64\n",
      "User 4 date: created_at\n",
      "2021-03-03 08:03:33    976\n",
      "2021-02-05 09:36:41    877\n",
      "Name: count, dtype: int64\n"
     ]
    }
   ],
   "source": [
    "user_3 = feature_frame_df[feature_frame_df['user_id'] == 5029635227780]\n",
    "print(\"User 3 date:\", user_3['created_at'].value_counts())\n",
    "user_4 = feature_frame_df[feature_frame_df['user_id'] == 3875142467716]\n",
    "print(\"User 4 date:\", user_4['created_at'].value_counts())"
   ]
  },
  {
   "cell_type": "code",
   "execution_count": 53,
   "metadata": {},
   "outputs": [
    {
     "name": "stdout",
     "output_type": "stream",
     "text": [
      "2020-10-05 16:46:19\n",
      "2021-03-03 14:42:05\n"
     ]
    }
   ],
   "source": [
    "print(feature_frame_df['created_at'].min())\n",
    "print(feature_frame_df['created_at'].max())"
   ]
  },
  {
   "cell_type": "markdown",
   "metadata": {},
   "source": [
    "Vemos como tiene sentido que, los primeros usuarios no tienen combinacion con todos los productos (ya que no estaban disponibles), mientras que los ultimos usuarios si que tienen todas las combinaciones.\n",
    "\n",
    "Hay que tener en cuenta también, que cada combinacion aparecera tantas veces como pedidos haya hecho ese usuario, por eso el dataset tiene mas filas que las combinaciones posibles."
   ]
  },
  {
   "cell_type": "markdown",
   "metadata": {},
   "source": [
    "Vamos a entender las columnas del dataset:"
   ]
  },
  {
   "cell_type": "code",
   "execution_count": 23,
   "metadata": {},
   "outputs": [
    {
     "name": "stdout",
     "output_type": "stream",
     "text": [
      "Dataframe info:\n",
      "<class 'pandas.core.frame.DataFrame'>\n",
      "RangeIndex: 2880549 entries, 0 to 2880548\n",
      "Data columns (total 27 columns):\n",
      " #   Column                            Dtype  \n",
      "---  ------                            -----  \n",
      " 0   variant_id                        int64  \n",
      " 1   product_type                      object \n",
      " 2   order_id                          int64  \n",
      " 3   user_id                           int64  \n",
      " 4   created_at                        object \n",
      " 5   order_date                        object \n",
      " 6   user_order_seq                    int64  \n",
      " 7   outcome                           float64\n",
      " 8   ordered_before                    float64\n",
      " 9   abandoned_before                  float64\n",
      " 10  active_snoozed                    float64\n",
      " 11  set_as_regular                    float64\n",
      " 12  normalised_price                  float64\n",
      " 13  discount_pct                      float64\n",
      " 14  vendor                            object \n",
      " 15  global_popularity                 float64\n",
      " 16  count_adults                      float64\n",
      " 17  count_children                    float64\n",
      " 18  count_babies                      float64\n",
      " 19  count_pets                        float64\n",
      " 20  people_ex_baby                    float64\n",
      " 21  days_since_purchase_variant_id    float64\n",
      " 22  avg_days_to_buy_variant_id        float64\n",
      " 23  std_days_to_buy_variant_id        float64\n",
      " 24  days_since_purchase_product_type  float64\n",
      " 25  avg_days_to_buy_product_type      float64\n",
      " 26  std_days_to_buy_product_type      float64\n",
      "dtypes: float64(19), int64(4), object(4)\n",
      "memory usage: 593.4+ MB\n",
      "None\n"
     ]
    }
   ],
   "source": [
    "print('Dataframe info:')\n",
    "print(feature_frame_df.info())"
   ]
  },
  {
   "cell_type": "code",
   "execution_count": 24,
   "metadata": {},
   "outputs": [
    {
     "name": "stdout",
     "output_type": "stream",
     "text": [
      "Null values:\n",
      "variant_id                          0\n",
      "product_type                        0\n",
      "order_id                            0\n",
      "user_id                             0\n",
      "created_at                          0\n",
      "order_date                          0\n",
      "user_order_seq                      0\n",
      "outcome                             0\n",
      "ordered_before                      0\n",
      "abandoned_before                    0\n",
      "active_snoozed                      0\n",
      "set_as_regular                      0\n",
      "normalised_price                    0\n",
      "discount_pct                        0\n",
      "vendor                              0\n",
      "global_popularity                   0\n",
      "count_adults                        0\n",
      "count_children                      0\n",
      "count_babies                        0\n",
      "count_pets                          0\n",
      "people_ex_baby                      0\n",
      "days_since_purchase_variant_id      0\n",
      "avg_days_to_buy_variant_id          0\n",
      "std_days_to_buy_variant_id          0\n",
      "days_since_purchase_product_type    0\n",
      "avg_days_to_buy_product_type        0\n",
      "std_days_to_buy_product_type        0\n",
      "dtype: int64\n"
     ]
    }
   ],
   "source": [
    "print(\"Null values:\")\n",
    "print(feature_frame_df.isnull().sum())"
   ]
  },
  {
   "cell_type": "code",
   "execution_count": 25,
   "metadata": {},
   "outputs": [
    {
     "name": "stdout",
     "output_type": "stream",
     "text": [
      "outcome\n",
      "0.0    0.988463\n",
      "1.0    0.011537\n",
      "Name: proportion, dtype: float64\n"
     ]
    },
    {
     "data": {
      "image/png": "[encoded data removed]",
      "text/plain": [
       "<Figure size 800x600 with 1 Axes>"
      ]
     },
     "metadata": {},
     "output_type": "display_data"
    }
   ],
   "source": [
    "#Distribution of outcome\n",
    "outcome_dist=feature_frame_df['outcome'].value_counts(normalize=True)\n",
    "print(outcome_dist)\n",
    "\n",
    "plt.figure(figsize=(8,6))\n",
    "sns.barplot(x=outcome_dist.index, y= outcome_dist.values)\n",
    "plt.show()"
   ]
  },
  {
   "cell_type": "code",
   "execution_count": 78,
   "metadata": {},
   "outputs": [
    {
     "name": "stdout",
     "output_type": "stream",
     "text": [
      "             variant_id             product_type       order_id        user_id           created_at           order_date  user_order_seq  outcome  ordered_before  abandoned_before  active_snoozed  set_as_regular  normalised_price  discount_pct          vendor  global_popularity  count_adults  count_children  count_babies  count_pets  people_ex_baby  days_since_purchase_variant_id  avg_days_to_buy_variant_id  std_days_to_buy_variant_id  days_since_purchase_product_type  avg_days_to_buy_product_type  std_days_to_buy_product_type\n",
      "469526   33824368033924            washingpowder  2900111655044  3791384969348  2021-01-18 10:24:50  2021-01-18 00:00:00               2      0.0             1.0               0.0             0.0             0.0          0.379236      0.428878          persil           0.020424           2.0             0.0           0.0         0.0             2.0                            82.0                        30.5                   28.724102                              82.0                          37.0                     29.593617\n",
      "953966   33826466070660        tinspackagedfoods  2829039304836  3502816592004  2020-10-31 15:09:18  2020-10-31 00:00:00               3      0.0             0.0               0.0             0.0             0.0          0.048523      0.089385       fish4ever           0.015038           2.0             0.0           0.0         0.0             2.0                            33.0                        34.0                   33.064855                              30.0                          27.0                     23.827826\n",
      "408049   34037940191364       kitchenrolltissues  2829871546500  3771764834436  2020-11-01 21:04:11  2020-11-01 00:00:00               3      0.0             0.0               0.0             0.0             0.0          0.062076      0.200873         kleenex           0.003540           2.0             0.0           0.0         0.0             2.0                            33.0                        29.5                   27.319781                              30.0                          30.0                     24.688701\n",
      "1399449  33719428808836          wipescottonwool  2884614848644  3540996423812  2020-12-29 19:01:30  2020-12-29 00:00:00               6      0.0             0.0               0.0             0.0             0.0          0.059366      0.095890    simplygentle           0.000000           2.0             0.0           0.0         0.0             2.0                            33.0                        45.0                   32.923467                              30.0                          34.0                     27.826713\n",
      "1332848  33826474459268                   coffee  2901903999108  3802212761732  2021-01-20 21:29:44  2021-01-20 00:00:00               3      0.0             0.0               0.0             0.0             0.0          0.075630      0.071685      wholeearth           0.002425           2.0             0.0           0.0         0.0             2.0                            33.0                        47.0                   35.451186                              30.0                          31.0                     24.363052\n",
      "1473793  34185680060548  longlifemilksubstitutes  2830588412036  3764318896260  2020-11-02 22:39:48  2020-11-02 00:00:00               2      0.0             0.0               0.0             0.0             0.0          0.433451      0.121951      rudehealth           0.003571           2.0             0.0           0.0         0.0             2.0                            33.0                        19.0                   19.545718                              30.0                          25.0                     21.048990\n",
      "491889   34284955500676          wipescottonwool  3642790609028  3906482045060  2021-03-02 20:51:54  2021-03-02 00:00:00               2      0.0             0.0               0.0             0.0             0.0          0.026837      0.262626        johnsons           0.029133           2.0             0.0           0.0         0.0             2.0                            33.0                        40.0                   28.382365                              30.0                          34.0                     27.826713\n",
      "2799816  33667222896772                 haircare  2897224106116  3820263571588  2021-01-14 15:38:02  2021-01-14 00:00:00               4      0.0             0.0               0.0             0.0             0.0          0.075630      0.430108  herbalessences           0.000838           2.0             0.0           0.0         0.0             2.0                            33.0                        34.5                   29.246471                              30.0                          32.0                     28.189363\n",
      "2107115  34371968532612          babyfood6months  2911720996996  3904127271044  2021-02-01 23:20:24  2021-02-01 00:00:00               2      0.0             0.0               0.0             0.0             0.0          0.325020      0.296080    ellaskitchen           0.002999           2.0             0.0           0.0         0.0             2.0                            33.0                        32.0                   14.761436                              30.0                          30.0                     18.973072\n",
      "1285582  33977921208452   cookingingredientsoils  2924822626436  3821699301508  2021-02-18 13:22:32  2021-02-18 00:00:00               4      0.0             0.0               0.0             0.0             0.0          0.108159      0.002506           flora           0.008251           2.0             0.0           0.0         0.0             2.0                            33.0                        61.0                   39.265607                              30.0                          31.0                     27.135844\n"
     ]
    }
   ],
   "source": [
    "with pd.option_context('display.max_columns', None, 'display.width', 1000):\n",
    "    print(feature_frame_df.sample(10))"
   ]
  },
  {
   "cell_type": "markdown",
   "metadata": {},
   "source": [
    "* variant_id: Id del producto\n",
    "\n",
    "* product type: Tipo de producto  \n",
    "\n",
    "* order_id: Id de la orden (misma combinación usuario-producto puede existir más de una vez). Outcome será 1 en los productos que ha pedido para esa orden y 0 para los productos que no ha pedido.\n",
    "\n",
    "* user_id: Id del usuario\n",
    "\n",
    "* created_at: Fecha creación pedido\n",
    "\n",
    "* order_date: Fecha pedido realizado\n",
    "\n",
    "* user_order_seq: Numero de pedido de un determinado usuario (4 --> es su cuarto pedido)\n",
    "\n",
    "* outcome: Determina si usuario compra un producto dado un order_id (etiqueta de nuestro problema)\n",
    "\n",
    "* ordered_before: 1 si producto se ha pedido anteriormente por un determinado usuario , 0 si no se ha pedido antes\n",
    "\n",
    "* abandoned_before: 1 si producto se ha abandonado anteriormente por un determinado usuario , 0 si no se ha abandonado antes\n",
    "\n",
    "* active_snoozed: 1 si producto esta en estado \"snoozed\" (guardado para más tarde ?)\n",
    "\n",
    "* set_as_regular: Producto marcado como favorito por un determinado usuario\n",
    "\n",
    "* normalised_price: Precio normalizado del producto\n",
    "\n",
    "* discount_pct: Porcentaje de descuento del prodcuto\n",
    "\n",
    "* vendor: Provedor/marca del producto\n",
    "\n",
    "* global_popularity: Popularidad calculada de cada producto\n",
    "\n",
    "* count_adults: Número de adultos asociados al user_id\n",
    "\n",
    "* count_children: Número de niños asociados al user_id\n",
    "\n",
    "* count_babies: Número de bebés asociados al user_id\n",
    "\n",
    "* count_pets: Número de mascotas asociados al user_id\n",
    "\n",
    "* people_ex_baby: Número de personas asociadas al user_id excluyendo bebés\n",
    "\n",
    "* days_since_purchase_variant_id: Número de días desde la última vez que el usuario compro un determinado variant_id\n",
    "\n",
    "* avg_days_to_buy_variant_id: Promedio de días que tarda el usuario en comprar un determinado variant_id\n",
    "\n",
    "* std_days_to_buy_varinat_id: desviación estándar de los días que tarda el usuario en comprar un determinado variant_id\n",
    "\n",
    "* days_since_purchase_product_type: Número de días desde la última vez que el usuario compro un determinado product_type\n",
    "\n",
    "* avg_days_to_buy_product_type: Promedio de días que tarda el usuario en comprar un determinado product_type\n",
    "\n",
    "* std_days_to_buy_product_type: desviación estándar de los días que tarda el usuario en comprar un determinado product_type\n",
    "\n"
   ]
  },
  {
   "cell_type": "code",
   "execution_count": 79,
   "metadata": {},
   "outputs": [],
   "source": [
    "info_cols = ['variant_id', 'order_id', 'user_id','created_at', 'order_date']\n",
    "label_col = 'outcome'\n",
    "features_cols = [col for col in feature_frame_df.columns if col not in info_cols + [label_col]]\n",
    "\n",
    "categorical_cols = ['product_type', 'vendor']\n",
    "binary_cols = ['ordered_before', 'abandoned_before', 'active_snoozed', 'set_as_regular']\n",
    "numerical_cols = [col for col in feature_frame_df.columns if col not in categorical_cols + binary_cols]"
   ]
  },
  {
   "cell_type": "code",
   "execution_count": 84,
   "metadata": {},
   "outputs": [
    {
     "name": "stdout",
     "output_type": "stream",
     "text": [
      "Value counts ordered_before: {0.0: 2819658, 1.0: 60891}\n",
      "Mean outcome by ordered_before value: {0.0: 0.008223337723936732, 1.0: 0.1649669080816541}\n",
      "Value counts abandoned_before: {0.0: 2878794, 1.0: 1755}\n",
      "Mean outcome by abandoned_before value: {0.0: 0.011106039542947498, 1.0: 0.717948717948718}\n",
      "Value counts active_snoozed: {0.0: 2873952, 1.0: 6597}\n",
      "Mean outcome by active_snoozed value: {0.0: 0.011302554809544488, 1.0: 0.1135364559648325}\n",
      "Value counts set_as_regular: {0.0: 2870093, 1.0: 10456}\n",
      "Mean outcome by set_as_regular value: {0.0: 0.010668992259135854, 1.0: 0.24971308339709258}\n"
     ]
    }
   ],
   "source": [
    "for col in binary_cols:\n",
    "    print(f\"Value counts {col}: {feature_frame_df[col].value_counts().to_dict()}\")\n",
    "    print(f\"Mean outcome by {col} value: {feature_frame_df.groupby(col)[label_col].mean().to_dict()}\")"
   ]
  },
  {
   "cell_type": "code",
   "execution_count": null,
   "metadata": {},
   "outputs": [],
   "source": []
  }
 ],
 "metadata": {
  "kernelspec": {
   "display_name": "Python 3",
   "language": "python",
   "name": "python3"
  },
  "language_info": {
   "codemirror_mode": {
    "name": "ipython",
    "version": 3
   },
   "file_extension": ".py",
   "mimetype": "text/x-python",
   "name": "python",
   "nbconvert_exporter": "python",
   "pygments_lexer": "ipython3",
   "version": "3.11.0"
  }
 },
 "nbformat": 4,
 "nbformat_minor": 2
}
